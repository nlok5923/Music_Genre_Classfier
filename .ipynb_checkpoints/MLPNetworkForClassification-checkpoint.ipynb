{
 "cells": [
  {
   "cell_type": "code",
   "execution_count": 1,
   "metadata": {},
   "outputs": [
    {
     "ename": "ModuleNotFoundError",
     "evalue": "No module named 'tensorflow'",
     "output_type": "error",
     "traceback": [
      "\u001b[1;31m---------------------------------------------------------------------------\u001b[0m",
      "\u001b[1;31mModuleNotFoundError\u001b[0m                       Traceback (most recent call last)",
      "\u001b[1;32m<ipython-input-1-f755bdc1b192>\u001b[0m in \u001b[0;36m<module>\u001b[1;34m\u001b[0m\n\u001b[0;32m      2\u001b[0m \u001b[1;32mimport\u001b[0m \u001b[0mnumpy\u001b[0m \u001b[1;32mas\u001b[0m \u001b[0mnp\u001b[0m\u001b[1;33m\u001b[0m\u001b[1;33m\u001b[0m\u001b[0m\n\u001b[0;32m      3\u001b[0m \u001b[1;32mfrom\u001b[0m \u001b[0msklearn\u001b[0m\u001b[1;33m.\u001b[0m\u001b[0mmodel_selection\u001b[0m \u001b[1;32mimport\u001b[0m \u001b[0mtrain_test_split\u001b[0m\u001b[1;33m\u001b[0m\u001b[1;33m\u001b[0m\u001b[0m\n\u001b[1;32m----> 4\u001b[1;33m \u001b[1;32mimport\u001b[0m \u001b[0mtensorflow\u001b[0m\u001b[1;33m.\u001b[0m\u001b[0mkeras\u001b[0m \u001b[1;32mas\u001b[0m \u001b[0mkeras\u001b[0m\u001b[1;33m\u001b[0m\u001b[1;33m\u001b[0m\u001b[0m\n\u001b[0m\u001b[0;32m      5\u001b[0m \u001b[1;33m\u001b[0m\u001b[0m\n\u001b[0;32m      6\u001b[0m \u001b[0mDATASET_PATH\u001b[0m \u001b[1;33m=\u001b[0m \u001b[1;34m\"data.json\"\u001b[0m\u001b[1;33m\u001b[0m\u001b[1;33m\u001b[0m\u001b[0m\n",
      "\u001b[1;31mModuleNotFoundError\u001b[0m: No module named 'tensorflow'"
     ]
    }
   ],
   "source": [
    "import json\n",
    "import numpy as np\n",
    "from sklearn.model_selection import train_test_split \n",
    "import tensorflow.keras as keras\n",
    "import matplotlib.pyplot as plt\n",
    "\n",
    "DATASET_PATH = \"data.json\"\n",
    "# 30 sec song to 10 segment and each segment 3 sec long \n",
    "\n",
    "def load_data(dataset_path):\n",
    "    with open(dataset_path ,\"r\") as fp:\n",
    "        data = json.load(fp)\n",
    "        \n",
    "    # convert list into numpy arrays \n",
    "    # as both labels are stored as list \n",
    "    inputs =   np.array(data[\"mfcc\"])\n",
    "    targets =  np.array(data[\"labels\"])\n",
    "    \n",
    "    return inputs,targets\n",
    "\n",
    "def plot_history(history):\n",
    "    \n",
    "    fig,axs = plt.subplots(2)\n",
    "    \n",
    "    # create the accuracy subplots \n",
    "    # accuracy of test and training set with time\n",
    "    axs[0].plot(history.history[\"accuracy\"],label=\"train accuracy\")\n",
    "    axs[0].plot(history.history[\"val_accuracy\"],label=\"test accuracy\")\n",
    "    axs[0].set_ylabel(\"accuracy\")\n",
    "    axs[0].legend(loc=\"lower right\")\n",
    "    axs[0].set_title(\"Acuracy eval\")\n",
    "    \n",
    "    # for error sub plot\n",
    "    axs[1].plot(history.history[\"loss\"],label=\"train error\")\n",
    "    axs[1].plot(history.history[\"val_loss\"],label=\"test error\")\n",
    "    axs[1].set_ylabel(\"Error\")\n",
    "    axs[1].set_xlabel(\"epoch\")\n",
    "    axs[1].legend(loc=\"upper right\")\n",
    "    axs[1].set_title(\"error eval\")\n",
    "    \n",
    "    plt.show()\n",
    "    \n",
    "    #identifiying overfitting by looking at the plot \n",
    "    \n",
    "    \n",
    "    \n",
    "    \n",
    "\n",
    "if __name__ == \"__main__\":\n",
    "    inputs,targets = load_data(DATASET_PATH)\n",
    "# load data\n",
    "     \n",
    "#splitting data \n",
    "    inputs_train, inputs_test, targets_train, targets_test = train_test_split(inputs,targets,test_size = 0.3)\n",
    "    # test_size = 0.3 means using 30% data for testing\n",
    "     \n",
    "    # split data into train and test set \n",
    "    \n",
    "    \n",
    "\n",
    "    # build  the networ architecture \n",
    "    keras.sequential([\n",
    "        # input layer \n",
    "        keras.layers.Flatten(input_shape=(inputs.shape[1],inputs_shape[2])),\n",
    "        # 1st hidden layer \n",
    "        # we will be using \"ralu\" function as activation function \n",
    "        # relu :rectified linear unit \n",
    "        # relu is very effective fro training \n",
    "        # regualarization we need ot pass extract argument\n",
    "        keras.layers.Dense(512, activations=\"relu\",kernel_regularizer= keras.regularizer.l2(0.001)),\n",
    "        \n",
    "        keras.layers.Dropout(0.3),\n",
    "        \n",
    "        keras.layers.Dense(256, activations=\"relu\",kernel_regularizer= keras.regularizer.l2(0.001)),\n",
    "        keras.layers.Dropout(0.3),\n",
    "        keras.layers.Dense(64, activations=\"relu\",kernel_regularizer= keras.regularizer.l2(0.001)),\n",
    "        keras.layers.Dropout(0.3),\n",
    "        \n",
    "        # out put layer \n",
    "        # 10 neurons beacuse we has only 10 genres \n",
    "        # softmax normalizes value for us\n",
    "        keras.layers.Dense(10, activations=\"softmax\")\n",
    "    ])\n",
    "    # with sigmoid function the gradient descent get lowers whith incease in lyaer\n",
    "    \n",
    "    # compile network\n",
    "    \n",
    "    optimizer = keras.optimizer.Adam(learning_rate = 0.0001)\n",
    "    model.compile(optimizer = optimizer,\n",
    "                 loss = \"sparse_categorical_crossentrophy\",\n",
    "                 metrics=[\"accuracy\"])\n",
    "    model.summary()\n",
    "     # train the network\n",
    "    model.fit(input_train,targets_train, \n",
    "              validation_data=(inputs_test,targets_test),\n",
    "              epochs=50,\n",
    "              batch_size =32\n",
    "              )\n",
    "     # batching :  "
   ]
  },
  {
   "cell_type": "code",
   "execution_count": 2,
   "metadata": {},
   "outputs": [
    {
     "name": "stdout",
     "output_type": "stream",
     "text": [
      "Note: you may need to restart the kernel to use updated packages.\n"
     ]
    },
    {
     "name": "stderr",
     "output_type": "stream",
     "text": [
      "ERROR: Could not find a version that satisfies the requirement tensorflow\n",
      "ERROR: No matching distribution found for tensorflow\n"
     ]
    }
   ],
   "source": [
    "pip install tensorflow"
   ]
  },
  {
   "cell_type": "code",
   "execution_count": null,
   "metadata": {},
   "outputs": [],
   "source": [
    "# here model is not  able to generalized the data this problem is known as overfitting \n",
    "\n",
    "# solving overfitting in neural networks \n",
    "history= model.fit(input_train,targets_train, \n",
    "              validation_data=(inputs_test,targets_test),\n",
    "              epochs=50,\n",
    "              batch_size =32\n",
    "              )\n",
    "\n",
    "\n",
    "\n",
    "\n"
   ]
  }
 ],
 "metadata": {
  "kernelspec": {
   "display_name": "Python 3",
   "language": "python",
   "name": "python3"
  },
  "language_info": {
   "codemirror_mode": {
    "name": "ipython",
    "version": 3
   },
   "file_extension": ".py",
   "mimetype": "text/x-python",
   "name": "python",
   "nbconvert_exporter": "python",
   "pygments_lexer": "ipython3",
   "version": "3.8.0"
  }
 },
 "nbformat": 4,
 "nbformat_minor": 4
}
